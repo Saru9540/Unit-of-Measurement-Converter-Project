{
 "cells": [
  {
   "cell_type": "markdown",
   "id": "9176e15e-32fb-4956-910d-6ab94a290af6",
   "metadata": {},
   "source": [
    "UNIT OF MEASUREMENT CONVERTER"
   ]
  },
  {
   "cell_type": "code",
   "execution_count": null,
   "id": "82fee3c3-7eca-4bc9-b868-ea57ef3db5c4",
   "metadata": {},
   "outputs": [],
   "source": []
  },
  {
   "cell_type": "code",
   "execution_count": 2,
   "id": "9f0ce98d-bd2f-490c-b309-f20fd5fa64c7",
   "metadata": {},
   "outputs": [
    {
     "name": "stdin",
     "output_type": "stream",
     "text": [
      "Enter Starting Unit of Measurement(inches, feet, yards): Inches\n",
      "Enter Unit of Measurement to Convert to(inches, feet, yards): feets\n",
      "Enter Starting Measurement in Inches: 40\n"
     ]
    },
    {
     "name": "stdout",
     "output_type": "stream",
     "text": [
      "Result : 40 Inches = 3.33 Feet\n"
     ]
    }
   ],
   "source": [
    "convert_from = input(\"Enter Starting Unit of Measurement(inches, feet, yards):\")\n",
    "\n",
    "convert_to = input(\"Enter Unit of Measurement to Convert to(inches, feet, yards):\")\n",
    "\n",
    "if convert_from.lower() in[ \"inches\", \"in\", \"inch\"]: \n",
    "     number_of_inches = int(input(\"Enter Starting Measurement in Inches:\"))\n",
    "     if convert_to.lower() in[\"feet\",\"feets\",\"ft\"]: \n",
    "        print(\"Result : \" + str(number_of_inches) + \" Inches = \" + str(round(number_of_inches/12,2)) + \" Feet\")\n",
    "     elif  convert_to.lower() in[\"yards\",\"yard\",\"yd\"]: \n",
    "        print(\"Result : \" + str(number_of_inches) + \" Inches = \" + str(round(number_of_inches/36,2)) + \" Yards\")\n",
    "     else:\n",
    "        print(\"Please Enter either Inches, Feet, or Yards\")\n",
    "\n",
    "elif convert_from.lower() in[\"feet\",\"feets\",\"ft\"]: \n",
    "     number_of_feet = int(input(\"Enter Starting Measurement in Feet:\"))\n",
    "     if convert_to.lower() in[ \"inches\", \"in\", \"inch\"]: \n",
    "        print(\"Result : \" + str(number_of_feet) + \" Feet = \" + str(round(number_of_feet * 12)) + \" Inches\") \n",
    "     elif  convert_to.lower() in[\"yards\",\"yard\",\"yd\"]: \n",
    "        print(\"Result : \" + str(number_of_feet) + \" Feet = \" + str(round(number_of_feet/3,2)) + \" Yards\")   \n",
    "     else:\n",
    "        print(\"Please Enter either Inches, Feet, or Yards\")\n",
    "         \n",
    "elif convert_from.lower() in[\"yards\",\"yard\",\"yd\"]: \n",
    "     number_of_yards = int(input(\"Enter Starting Measurement in Yards:\"))\n",
    "     if convert_to.lower() in[ \"inches\", \"in\", \"inch\"]: \n",
    "        print(\"Result : \" + str(number_of_yards) + \" Yards = \" + str(round(number_of_yards * 36)) + \" Inches\")\n",
    "     elif  convert_to.lower() in[\"feet\",\"feets\",\"ft\"]:  \n",
    "        print(\"Result : \" + str(number_of_yards) + \" Yards = \" + str(round(number_of_yards * 3)) + \" Feet\")\n",
    "     else:\n",
    "        print(\"Please Enter either Inches, Feet, or Yards\")\n",
    "\n",
    "\n",
    "else:\n",
    "        print(\"Please Enter either Inches, Feet, or Yards\")\n"
   ]
  },
  {
   "cell_type": "code",
   "execution_count": null,
   "id": "a2a43dbd-329b-4072-8196-5d7146ccaf14",
   "metadata": {},
   "outputs": [],
   "source": []
  }
 ],
 "metadata": {
  "kernelspec": {
   "display_name": "Python 3 (ipykernel)",
   "language": "python",
   "name": "python3"
  },
  "language_info": {
   "codemirror_mode": {
    "name": "ipython",
    "version": 3
   },
   "file_extension": ".py",
   "mimetype": "text/x-python",
   "name": "python",
   "nbconvert_exporter": "python",
   "pygments_lexer": "ipython3",
   "version": "3.13.5"
  }
 },
 "nbformat": 4,
 "nbformat_minor": 5
}
